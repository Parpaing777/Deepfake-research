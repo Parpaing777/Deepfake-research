# Installation des bibliothèques nécessaires
!pip install opencv-python-headless scikit-learn numpy matplotlib

import cv2
import numpy as np
import os
from sklearn.ensemble import RandomForestClassifier
from sklearn.model_selection import train_test_split
from sklearn.metrics import classification_report, confusion_matrix
import matplotlib.pyplot as plt

# 1. Préparation des données : extraction de frames et détection de visages
def extract_faces_from_videos(video_paths, output_dir, frames_per_video=5):
    face_cascade = cv2.CascadeClassifier(cv2.data.haarcascades + 'haarcascade_frontalface_default.xml')
    os.makedirs(output_dir, exist_ok=True)

    for video_path in video_paths:
        cap = cv2.VideoCapture(video_path)
        frame_count = int(cap.get(cv2.CAP_PROP_FRAME_COUNT))
        frame_interval = max(1, frame_count // frames_per_video)

        video_name = os.path.splitext(os.path.basename(video_path))[0]
        count = 0

        for i in range(frames_per_video):
            cap.set(cv2.CAP_PROP_POS_FRAMES, i * frame_interval)
            ret, frame = cap.read()
            if not ret:
                break

            gray = cv2.cvtColor(frame, cv2.COLOR_BGR2GRAY)
            faces = face_cascade.detectMultiScale(gray, scaleFactor=1.1, minNeighbors=5, minSize=(50, 50))

            for j, (x, y, w, h) in enumerate(faces):
                face = frame[y:y + h, x:x + w]
                face_path = os.path.join(output_dir, f"{video_name}_face_{count}.jpg")
                cv2.imwrite(face_path, face)
                count += 1

        cap.release()

# Définir les chemins des dossiers contenant les vidéos
real_video_dir = "/content/drive/MyDrive/Colab Notebooks/reals"
fake_video_dir = "/content/drive/MyDrive/Colab Notebooks/fakes"

# Extraire tous les chemins des vidéos des dossiers
videos_real = [os.path.join(real_video_dir, f) for f in os.listdir(real_video_dir) if f.endswith(('.mp4', '.avi', '.mov'))]
videos_fake = [os.path.join(fake_video_dir, f) for f in os.listdir(fake_video_dir) if f.endswith(('.mp4', '.avi', '.mov'))]

# Extraire les visages des vidéos
# extract_faces_from_videos(videos_real, "/content/drive/MyDrive/Colab Notebooks/real_faces")
# extract_faces_from_videos(videos_fake, "/content/drive/MyDrive/Colab Notebooks/fake_faces")


# 2. Extraction des caractéristiques basées sur le bruit
def extract_noise_features(image_path):
    image = cv2.imread(image_path, cv2.IMREAD_GRAYSCALE)
    if image is None:
        return None

    noise = image - cv2.GaussianBlur(image, (5, 5), 0)
    features = [
        np.mean(noise),
        np.var(noise),
        np.median(noise),
        np.percentile(noise, 10),
        np.percentile(noise, 90)
    ]
    return features

def prepare_dataset(real_dir, fake_dir):
    X, y = [], []

    for file_name in os.listdir(real_dir):
        file_path = os.path.join(real_dir, file_name)
        features = extract_noise_features(file_path)
        if features:
            X.append(features)
            y.append(0)  # Label for real

    for file_name in os.listdir(fake_dir):
        file_path = os.path.join(fake_dir, file_name)
        features = extract_noise_features(file_path)
        if features:
            X.append(features)
            y.append(1)  # Label for fake

    return np.array(X), np.array(y)

# 3. Apprentissage supervisé avec Random Forest
def train_and_evaluate(X, y):
    X_train, X_test, y_train, y_test = train_test_split(X, y, test_size=0.2, random_state=42)

    clf = RandomForestClassifier(n_estimators=100, random_state=42)
    clf.fit(X_train, y_train)

    y_pred = clf.predict(X_test)

    print("\nConfusion Matrix:\n", confusion_matrix(y_test, y_pred))
    print("\nClassification Report:\n", classification_report(y_test, y_pred))

    return clf

# Exemple complet d'exécution
real_faces_dir = "/content/drive/MyDrive/Colab Notebooks/real_faces"
fake_faces_dir = "/content/drive/MyDrive/Colab Notebooks/fake_faces"

# Assurez-vous d'avoir extrait les visages au préalable
# extract_faces_from_videos(videos_real, real_faces_dir)
# extract_faces_from_videos(videos_fake, fake_faces_dir)

X, y = prepare_dataset(real_faces_dir, fake_faces_dir)
clf = train_and_evaluate(X, y)

import joblib
joblib.dump(clf, "/content/drive/MyDrive/Colab Notebooks/model.pkl")

